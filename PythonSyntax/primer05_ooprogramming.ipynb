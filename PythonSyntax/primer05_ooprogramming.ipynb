{
 "cells": [
  {
   "cell_type": "markdown",
   "metadata": {},
   "source": [
    "Object Oriented Programming\n",
    "===============\n",
    "*Procedural programming*, or a programming approach that is centered around calling *procedures* (such as functions or subroutines) is a very common programming paradigm in scientific work.  However, it is many times advantageous to switch to *Object Oriented* programming.  This is where data structures, called *objects*, have internal variables and procedures, called *attributes* and *methods*.  The difference here is that external procedures need to be given the data structures on which to act (as *arguments*), in object oriented programming (OOP), object methods use the information stored within the object to act on something (typically, the object itself).  Let's use Numpy to illustrate the difference between the two.  Let's start by creating some simple arrays of numbers."
   ]
  },
  {
   "cell_type": "code",
   "execution_count": 1,
   "metadata": {},
   "outputs": [],
   "source": [
    "import numpy as np\n",
    "a1 = np.arange(0,50, 1)"
   ]
  },
  {
   "cell_type": "markdown",
   "metadata": {},
   "source": [
    "Let's perform some actions using these arrays in a *procedural* manner."
   ]
  },
  {
   "cell_type": "code",
   "execution_count": 2,
   "metadata": {},
   "outputs": [
    {
     "name": "stdout",
     "output_type": "stream",
     "text": [
      "24.5\n",
      "50\n"
     ]
    }
   ],
   "source": [
    "print(np.mean(a1))\n",
    "print(len(a1))\n"
   ]
  },
  {
   "cell_type": "markdown",
   "metadata": {},
   "source": [
    "Here, we used two functions (**np.mean** and **len**) to calculate the mean of the first array and calculate its length.  We also used the **print** function to view the results on screen.  Let's do the same thing in an OO way:"
   ]
  },
  {
   "cell_type": "code",
   "execution_count": 3,
   "metadata": {},
   "outputs": [
    {
     "name": "stdout",
     "output_type": "stream",
     "text": [
      "24.5\n",
      "(50,)\n"
     ]
    }
   ],
   "source": [
    "print( a1.mean() ) # Note the parentheses.\n",
    "print( a1.shape )  # No parantheses for attributes!"
   ]
  },
  {
   "cell_type": "markdown",
   "metadata": {},
   "source": [
    "To get the mean of the array, we called the *object method*, **a1.mean**.  We provided no arguments to this function.  Instead of acting on an externally provided argument, it acts on the object to which it is associated.  Previously, to learn a characteristic of our data structure, we used a function, **len** to calculate the array's length.  However, this characteristic is stored within the object as an *object attribute*, and can be assessed using the usual dot syntax (but no trailing parentheses, because it's a variable, not a procedure that we call.)  \n",
    "\n",
    "To learn more about OOP and how powerful it can be, let's create our own *class* of objects:"
   ]
  },
  {
   "cell_type": "code",
   "execution_count": 4,
   "metadata": {},
   "outputs": [
    {
     "name": "stdout",
     "output_type": "stream",
     "text": [
      "This is not part of our class definition.\n"
     ]
    }
   ],
   "source": [
    "class Example(object):\n",
    "    '''\n",
    "    Don't forget your doc string.\n",
    "    '''\n",
    "    pass\n",
    "print('This is not part of our class definition.')"
   ]
  },
  {
   "cell_type": "markdown",
   "metadata": {},
   "source": [
    "Defining classes is very straightforward.  Because this class doesn't do anything, we used **pass** to pass over adding more code.  All of our code pertaining to the class is tabbed over in the usual python style.  Our class definition ends when we stop tabbing over.  Note that when we declare our class, it must *inherit* its initial behavior from some existing class.  Because we don't have anything in mind for this class, we have it default from the base object, **object**.  We can now create objects of *class* **Example**:"
   ]
  },
  {
   "cell_type": "code",
   "execution_count": 5,
   "metadata": {},
   "outputs": [
    {
     "name": "stdout",
     "output_type": "stream",
     "text": [
      "<class '__main__.Example'>\n",
      "<__main__.Example object at 0x10b86c358>\n"
     ]
    }
   ],
   "source": [
    "a = Example()\n",
    "print(type(a))\n",
    "print(a)\n",
    "a?"
   ]
  },
  {
   "cell_type": "markdown",
   "metadata": {},
   "source": [
    "We *instantiated* a new object of class **Example**.  A *class* is a type of object.  While objects of the same class can be different, they behave in a similar manner to other objects of the same class.  An example is two Numpy arrays that have different values inside.  They have distinct values, sizes, and other attributes; however, they have the same methods and do similar things.\n",
    "\n",
    "Note the capitalization of our class' name.  It is standard practice to write class names in \"camel case\", where each word is capitalized but no spaces are used (LikeThisYouSee).\n",
    "\n",
    "Our objects can have attributes assigned to them, like so:"
   ]
  },
  {
   "cell_type": "code",
   "execution_count": 6,
   "metadata": {},
   "outputs": [
    {
     "name": "stdout",
     "output_type": "stream",
     "text": [
      "3\n",
      "10\n",
      "<__main__.Example object at 0x10b86c358>\n"
     ]
    }
   ],
   "source": [
    "x = 3\n",
    "a.x = 10\n",
    "print(x)\n",
    "print(a.x)\n",
    "print(a)"
   ]
  },
  {
   "cell_type": "markdown",
   "metadata": {},
   "source": [
    "Our new object is its own *namespace*.  That is how Numpy arrays each have their own **.size** attribute that has the same variable name, but one array's **.size** won't overwrite the **.size** of another.\n",
    "\n",
    "We also see that printing out 'a' is marginally informative.  It tells us the class, the namespace where we can find the class definition, and the memory location of our object.\n",
    "\n",
    "There are some very interesting built-in attributes, which always start with two underscores:"
   ]
  },
  {
   "cell_type": "code",
   "execution_count": 7,
   "metadata": {},
   "outputs": [
    {
     "name": "stdout",
     "output_type": "stream",
     "text": [
      "\n",
      "    Don't forget your doc string.\n",
      "    \n",
      "<class '__main__.Example'>\n",
      "{'x': 10}\n"
     ]
    }
   ],
   "source": [
    "print(a.__doc__)\n",
    "print(a.__class__)\n",
    "print(a.__dict__)"
   ]
  },
  {
   "cell_type": "markdown",
   "metadata": {},
   "source": [
    "Now we see where objects store their docstrings!  We also see one way to see what class an object is.  Another way is the **type** function.  The **dict** attribute is a dictionary of all of the attributes contained within that object.\n",
    "\n",
    "Let's create a class of objects that is a bit more interesting.  This class keeps track of a student's name and the scores of their homework assignments.  It provides ways to print the student's information to screen, calculate their grade, and update their information."
   ]
  },
  {
   "cell_type": "code",
   "execution_count": 8,
   "metadata": {},
   "outputs": [],
   "source": [
    "class Student(object):\n",
    "    '''Our second example class.'''\n",
    "    def __init__(self, firstname, lastname):\n",
    "        self.name = [firstname.capitalize(), lastname.capitalize()]\n",
    "        self.homework = []\n",
    "        \n",
    "        return None # __init__ should always return none!\n",
    "        \n",
    "    def __str__(self):\n",
    "        return '{0[0]} {0[1]} has completed {1} homeworks for a grade of {2}'.format(\n",
    "            self.name, len(self.homework), self.calc_grade())\n",
    "    \n",
    "    def add_homework(self, score):\n",
    "        '''Add a homework score to the student's record.'''\n",
    "        self.homework.append(score)\n",
    "        \n",
    "    def calc_grade(self):\n",
    "        '''Calculate a letter grade based on the student's homework scores.'''\n",
    "        if len(self.homework)==0:\n",
    "            return 'N/A'\n",
    "        # Average score out of 100 points possible per assignment:\n",
    "        score = sum(self.homework)/len(self.homework)\n",
    "        # Map to a letter grade:\n",
    "        if score>90:\n",
    "            return 'A'\n",
    "        elif score>80:\n",
    "            return 'B'\n",
    "        else:\n",
    "            # etc...\n",
    "            return 'F-'\n",
    "        "
   ]
  },
  {
   "cell_type": "markdown",
   "metadata": {},
   "source": [
    "There's a lot going on here, so let's take it one at a time.  We start off just like last time: declaring our class, inheriting from an existing class (**object**), and tabbing over.  \n",
    "\n",
    "Next, we start declaring our *methods*.  These are function definitions that are attached to the object.  *The first argument to each object method should be **self***.  **self** is a special variable that means \"Me!  Myself!  This object!\"  It's how you access an object's attributes and methods even though that object has *yet to be instantiated*.  When you pass **self** as a method argument, you are making sure that the method can access the rest of the object's information. \n",
    "\n",
    "Our first method is **\\_\\_init\\_\\_**.  This is the *constructor*, or the function that is called when you create, or *instantiate*, an object from a defined class.  This is where we initialize our object, take arguments from the user, and turn those arguments into something useful.  **\\_\\_init\\_\\_** is very important!\n",
    "\n",
    "Note that **\\_\\_init\\_\\_** is written to return **None**.  [Doing so is a best-practice that can avoid errors.](http://docs.quantifiedcode.com/python-code-patterns/correctness/explicit_return_in_init.html)\n",
    "\n",
    "[There are many special methods that control the behavior of a class!](https://docs.python.org/2/reference/datamodel.html#special-method-names)  Like **\\_\\_init\\_\\_**, these start and end with double-underscores.  The next one we encounter is **\\_\\_str\\_\\_**.  This sets what happens when we use our object in the **print** function.  This method must *always return a string to the caller.*  There are dozens of these special methods that allow you to change how objects work.  They can set the behavior when your object is used in a mathematical statement, make the object work like a list or a dictionary, define what happens if your object is called as if it were a function, and control the behavior of your object when used in logical operators.  You can create very powerful and unique objects with these methods!\n",
    "\n",
    "Next, we have two object methods that act on our object's attributes to some end.  First, we have **add_homework**, which extends the homework attribute by an additional score.  Then, we have **calc_grade**, which finds the average of all homework grades and assigns a letter grade to that homework.\n",
    "\n",
    "Let's try out our class:"
   ]
  },
  {
   "cell_type": "code",
   "execution_count": 9,
   "metadata": {},
   "outputs": [
    {
     "name": "stdout",
     "output_type": "stream",
     "text": [
      "Saul Goodman has completed 0 homeworks for a grade of N/A\n",
      "Saul Goodman has completed 2 homeworks for a grade of B\n"
     ]
    }
   ],
   "source": [
    "st1 = Student('Saul', 'goodman')\n",
    "print(st1)\n",
    "st1.add_homework(94)\n",
    "st1.add_homework(78)\n",
    "print(st1)"
   ]
  },
  {
   "cell_type": "markdown",
   "metadata": {},
   "source": [
    "Now let's suppose this class is very useful for us, but we would *also* like a class that has all of the same capability as this, but changes how we calculate the grade to include a special project.  We could write the whole class from scratch, but that would be repetitive and quite the waste of space.  Instead, let's *inherit* from our original class."
   ]
  },
  {
   "cell_type": "code",
   "execution_count": 10,
   "metadata": {},
   "outputs": [],
   "source": [
    "class ProgStudent(Student):\n",
    "    '''A specialized Student object that includes a special project score in the final grade.'''\n",
    "    def __init__(self, *args, **kwargs):\n",
    "        Student.__init__(self, *args, **kwargs) # Call the original init statement...\n",
    "        # ...but add new commands:\n",
    "        self.project_grade=0.0\n",
    "        return None\n",
    "    def add_project(self, score):\n",
    "        '''Set the project score for the student.'''\n",
    "        self.project_grade=score\n",
    "    def calc_grade(self):\n",
    "        '''Calculate a letter grade and include the project score.\n",
    "        The project is worth three homeworks!'''\n",
    "        # Average score out of 100 points possible per assignment:\n",
    "        score = (sum(self.homework)+3*self.project_grade) / (len(self.homework)+3)\n",
    "        # Map to a letter grade:\n",
    "        if score>90:\n",
    "            return 'A'\n",
    "        elif score>80:\n",
    "            return 'B'\n",
    "        else:\n",
    "            # etc...\n",
    "            return 'F-'"
   ]
  },
  {
   "cell_type": "code",
   "execution_count": 11,
   "metadata": {},
   "outputs": [
    {
     "name": "stdout",
     "output_type": "stream",
     "text": [
      "John raymond Legrasse has completed 0 homeworks for a grade of F-\n",
      "John raymond Legrasse has completed 3 homeworks for a grade of B\n"
     ]
    }
   ],
   "source": [
    "st2 = ProgStudent('John Raymond', 'Legrasse')\n",
    "print(st2)\n",
    "st2.add_homework(50)\n",
    "st2.add_homework(75)\n",
    "st2.add_homework(100)\n",
    "st2.add_project(90)\n",
    "print(st2)"
   ]
  },
  {
   "cell_type": "markdown",
   "metadata": {},
   "source": [
    "Here, we have *inherited* the definition of our previous class, **Student**.  All of the old object methods and attributes are now included in this definition so we do not need to repeat that code.  We do, however, want to make this behave somewhat differently.  The old **\\_\\_init\\_\\_** statement was useful, so we don't want to replace it.  Rather, we call the original first to initialize a new object as we did the old.  Hence, we have the **self.homework** list and the **self.name** list.  We add a new method, **self.add_project**, which sets the score of the class project.  Finally, because our grade calculation is very different than the original, we replace it outright.  \n",
    "\n",
    "In Python, inheritance is very important to creating new, customized, and powerful objects.  You can subclass anything, including default Python classes such as lists, dictionaries, and floats.  You can then alter them to make them more useful for yourself.  You can go further than that, however, and change **matplotlib.Axes** objects or **numpy.ndarray** classes to yield customized and powerful tools.  Be creative, and OOP can open a lot of doors for you!"
   ]
  }
 ],
 "metadata": {
  "kernelspec": {
   "display_name": "Python 3",
   "language": "python",
   "name": "python3"
  },
  "language_info": {
   "codemirror_mode": {
    "name": "ipython",
    "version": 3
   },
   "file_extension": ".py",
   "mimetype": "text/x-python",
   "name": "python",
   "nbconvert_exporter": "python",
   "pygments_lexer": "ipython3",
   "version": "3.7.3"
  }
 },
 "nbformat": 4,
 "nbformat_minor": 1
}
