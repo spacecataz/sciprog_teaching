{
 "cells": [
  {
   "cell_type": "markdown",
   "metadata": {},
   "source": [
    "Python I/O: Reading, Writing, Pickling\n",
    "===============\n",
    "Python has several built-in tools for handling files.  Let's cover the most important ones.\n",
    "File Objects and ASCII\n",
    "-------------------\n",
    "ASCII files are handled like everything else- with objects.  Specifically, _file_ objects.  These objects contain all you need to open, close, and write files.\n",
    "The file used for this excercise is \"player_rankings.txt\".  It is a list of players eligible for the 2011 draft sorted by their ranking (i.e., how draft pundits rated the players).  Information such as position and school are also included.  Make sure you have this file in your current working directory before running this notebook!"
   ]
  },
  {
   "cell_type": "code",
   "execution_count": 2,
   "metadata": {},
   "outputs": [
    {
     "name": "stdout",
     "output_type": "stream",
     "text": [
      "r\n",
      "player_rankings.txt\n",
      "  1.\tPatrick Peterson\tCB\tL.S.U.\n",
      "\n"
     ]
    }
   ],
   "source": [
    "# Create a file object\n",
    "f = open('player_rankings.txt', 'r')\n",
    "# Attributes tell us things about the file.\n",
    "print(f.mode)\n",
    "print(f.name)\n",
    "# Methods perform the usual file actions.\n",
    "a=f.readline()\n",
    "print(a)"
   ]
  },
  {
   "cell_type": "markdown",
   "metadata": {},
   "source": [
    "Per the usual, **help** or IPython's **?** operator combined with tab-complete will help you explore the object's methods easily.\n",
    "\n",
    "Above, we first opened the file and created a file object, *f*.  The file name is given as a string (literal or variable.)\n",
    "We opened the file in read mode via the *'r'* argument.  It's also possible to open in *append mode* (*'a'*),\n",
    "*write mode* (*'w'*), and various combinations (e.g. *'r+'* for combined read-write.)\n",
    "\n",
    "Next, we used the method *readline* to read a single line (until the invisible newline character is found) and move the file\n",
    "pointer to the position just after the newline character.  Note that newline characters are platform \n",
    "dependent, but modern languages typically do the work for you.  This method returned the read line as a string.  \n",
    "What if we wanted to read a bunch of lines at once?"
   ]
  },
  {
   "cell_type": "code",
   "execution_count": 3,
   "metadata": {},
   "outputs": [
    {
     "name": "stdout",
     "output_type": "stream",
     "text": [
      "['     2.\\tA.J. Green\\tWR\\tGeorgia\\n', '     3.\\tMarcell Dareus\\tDT\\t Alabama\\n', '     4.\\tVon Miller\\tOLB\\tTexas A&M\\n']\n"
     ]
    }
   ],
   "source": [
    "lines = f.readlines()\n",
    "print(lines[0:3])\n",
    "f.close()"
   ]
  },
  {
   "cell_type": "markdown",
   "metadata": {},
   "source": [
    "Here, we see that the *readlines* method slurps the rest of the file from the current pointer location to the end.  Then, the contents are separated by newline character and put into a list.\n",
    "\n",
    "Like good file stewards, we closed the file using *close*.  Python is very forgiving about leaving files open, but let's not take advantage of that good nature.\n",
    "\n",
    "Note that file objects are iterators with a *next* method.  This means, similar to list objects, we can put them into a *for* loop with minimal work.\n",
    "Let's loop through our file and find all of the players that are quarterbacks."
   ]
  },
  {
   "cell_type": "code",
   "execution_count": 4,
   "metadata": {},
   "outputs": [
    {
     "name": "stdout",
     "output_type": "stream",
     "text": [
      "9.\tBlaine Gabbert\tQB\tMissouri\n",
      "26.\tJake Locker\tQB\tWashington\n",
      "29.\tCam Newton\tQB\tAuburn\n",
      "38.\tRyan Mallett\tQB\tArkansas\n",
      "49.\tChristian Ponder\tQB\tFlorida St.\n",
      "80.\tRicky Stanzi\tQB\tIowa\n",
      "98.\tColin Kaepernick\tQB\tNevada\n",
      "100.\tAndy Dalton\tQB\tT.C.U.\n"
     ]
    }
   ],
   "source": [
    "f = open('player_rankings.txt' ,'r')\n",
    "for line in f:\n",
    "    if \"QB\" in line:\n",
    "        print(line.strip())\n",
    "f.close()"
   ]
  },
  {
   "cell_type": "markdown",
   "metadata": {},
   "source": [
    "Cam Newton ranked 29th overall?  Preposterous!\n",
    "\n",
    "Writing to files is just as easy:"
   ]
  },
  {
   "cell_type": "code",
   "execution_count": 5,
   "metadata": {},
   "outputs": [],
   "source": [
    "f1 = open('player_rankings.txt', 'r')\n",
    "f2 = open('test.txt', 'w')\n",
    "f2.write('Ranked players that are position {0}'.format('QB') )\n",
    "for line in f1:\n",
    "    if \"QB\" in line:\n",
    "        f2.write(line)\n",
    "f1.close()\n",
    "f2.close()"
   ]
  },
  {
   "cell_type": "markdown",
   "metadata": {},
   "source": [
    "Note that when we use **print**, we often get a newline automatically.  However, the *write* method is very\n",
    "explicit: if we don't add newlines, they won't show up."
   ]
  },
  {
   "cell_type": "code",
   "execution_count": 24,
   "metadata": {},
   "outputs": [],
   "source": [
    "# Look at the file created by this code:\n",
    "f=open('test2.txt', 'w')\n",
    "f.write('This line and')\n",
    "f.write(' this one will be combined...\\n')\n",
    "f.write('But this one stands alone!\\n')\n",
    "f.close()"
   ]
  },
  {
   "cell_type": "code",
   "execution_count": 27,
   "metadata": {},
   "outputs": [],
   "source": [
    "%more test2.txt\n",
    "# IPython's \"magic\" commands let you perform command-line functions. \n",
    "### IMPORTANT NOTE: The \"more\" command sometimes fails in Jupyter Notebooks... try this in a regular terminal."
   ]
  },
  {
   "cell_type": "markdown",
   "metadata": {},
   "source": [
    "Per the usual, use interactive help and IPython's auto-complete to explore the other file object methods.\n",
    "\n",
    "Binary files won't be covered here, but they're not that different.  Simply add *b*, for binary, to the open mode (e.g. *'rb'* to write to a binary file.)\n",
    "Typically, however, the binary format you want to open is some specialized format that has a python package that will do the work for you.\n",
    "Pickles\n",
    "-------\n",
    "Often, it is nice to dump data to a file without worrying about the format, especially if you can write\n",
    "objects to file and restore them in the exact same state.\n",
    "Python has such a mechanism: *pickles*.  *Pickling* is the act of dumping objects directly to a special\n",
    "binary format that can be in a later session.  Let's start by making a complicated object."
   ]
  },
  {
   "cell_type": "code",
   "execution_count": 28,
   "metadata": {},
   "outputs": [
    {
     "name": "stdout",
     "output_type": "stream",
     "text": [
      "[0. 0. 0. 0. 0. 0. 0. 0. 0. 0. 0. 0. 0. 0. 0. 0. 0. 0. 0. 0.]\n",
      "[0.         0.19634954 0.39269908 0.58904862 0.78539816 0.9817477\n",
      " 1.17809725 1.37444679 1.57079633 1.76714587 1.96349541 2.15984495\n",
      " 2.35619449 2.55254403 2.74889357 2.94524311]\n",
      "['hot', 'dogs']\n"
     ]
    }
   ],
   "source": [
    "import numpy as np  # import Numpy; more on importing soon.\n",
    "a={1:np.zeros(20), 2:np.arange(0, np.pi, np.pi/16.0), 3:['hot','dogs']}\n",
    "for key in a:\n",
    "    print(a[key])"
   ]
  },
  {
   "cell_type": "markdown",
   "metadata": {},
   "source": [
    "That is some stuff.  We want to save this for a later python session.  We could use the **pickle** module,\n",
    "but we'll use **cpickle**, which is much, much faster but syntactically equivalent.  \n",
    "Let's create a file, dump a pickle into it (don't say that aloud in public), and close it."
   ]
  },
  {
   "cell_type": "code",
   "execution_count": 33,
   "metadata": {},
   "outputs": [],
   "source": [
    "import pickle\n",
    "f_out=open('temp.pkl','wb')  # Open a file in binary write mode.\n",
    "pickle.dump(a, f_out)\n",
    "f_out.close()"
   ]
  },
  {
   "cell_type": "markdown",
   "metadata": {},
   "source": [
    "That was easy.  Our data has been pickled!  Let's load our pickle (again, don't say these things with \n",
    "people around.)\n",
    "Some critical notes here:\n",
    "\n",
    "* You must open the output file in *binary* mode, hence the \"wb\" in the **open** command.\n",
    "* In Python2.\\*, there are two \"pickle\" modules: \"Pickle\" and \"cPickle\".  Always use \"cPickle\" in Python2.*\n",
    "* We used the file extension \".pkl\" here.  It actually doesn't matter what you use, but I recommend using something that is recognizable in the future (i.e., \".pkl\").\n"
   ]
  },
  {
   "cell_type": "code",
   "execution_count": 37,
   "metadata": {},
   "outputs": [
    {
     "name": "stdout",
     "output_type": "stream",
     "text": [
      "{1: array([0., 0., 0., 0., 0., 0., 0., 0., 0., 0., 0., 0., 0., 0., 0., 0., 0.,\n",
      "       0., 0., 0.]), 2: array([0.        , 0.19634954, 0.39269908, 0.58904862, 0.78539816,\n",
      "       0.9817477 , 1.17809725, 1.37444679, 1.57079633, 1.76714587,\n",
      "       1.96349541, 2.15984495, 2.35619449, 2.55254403, 2.74889357,\n",
      "       2.94524311]), 3: ['hot', 'dogs']}\n"
     ]
    }
   ],
   "source": [
    "f_in = open('temp.pkl', 'rb') # Open a file in binary read mode.\n",
    "b = pickle.load(f_in)       # Load the pickle into a variable.\n",
    "print(b)\n",
    "f_in.close()"
   ]
  },
  {
   "cell_type": "markdown",
   "metadata": {},
   "source": [
    "Huzzah!  Note that we can pickle many objects into a single file.  We then just call *load* once for\n",
    "each saved object, each time assigning it to a new variable."
   ]
  },
  {
   "cell_type": "code",
   "execution_count": 40,
   "metadata": {},
   "outputs": [
    {
     "name": "stdout",
     "output_type": "stream",
     "text": [
      "['a', 'b', 'c', 'd'] [[1 2]\n",
      " [3 4]]\n"
     ]
    }
   ],
   "source": [
    "c=['a','b','c','d']\n",
    "d=np.matrix('1 2; 3 4')\n",
    "f_out=open('temp2.pkl', 'wb')\n",
    "pickle.dump(c, f_out)\n",
    "pickle.dump(d, f_out)\n",
    "f_out.close()\n",
    "##### New Session ####\n",
    "f_in=open('temp2.pkl', 'rb')\n",
    "e=pickle.load(f_in)\n",
    "g=pickle.load(f_in)\n",
    "f_in.close()\n",
    "print(e, g)"
   ]
  },
  {
   "cell_type": "markdown",
   "metadata": {},
   "source": [
    "Note that if we try to load another pickled object from our file, an *IOError* exception is thrown, causing our program to crash.  It's good to know how many pickles are in each file.  Alternatively, it is possible to just save the items as a *tuple* or *list*."
   ]
  },
  {
   "cell_type": "code",
   "execution_count": 42,
   "metadata": {},
   "outputs": [
    {
     "name": "stdout",
     "output_type": "stream",
     "text": [
      "{1: array([0., 0., 0., 0., 0., 0., 0., 0., 0., 0., 0., 0., 0., 0., 0., 0., 0.,\n",
      "       0., 0., 0.]), 2: array([0.        , 0.19634954, 0.39269908, 0.58904862, 0.78539816,\n",
      "       0.9817477 , 1.17809725, 1.37444679, 1.57079633, 1.76714587,\n",
      "       1.96349541, 2.15984495, 2.35619449, 2.55254403, 2.74889357,\n",
      "       2.94524311]), 3: ['hot', 'dogs']} {1: array([0., 0., 0., 0., 0., 0., 0., 0., 0., 0., 0., 0., 0., 0., 0., 0., 0.,\n",
      "       0., 0., 0.]), 2: array([0.        , 0.19634954, 0.39269908, 0.58904862, 0.78539816,\n",
      "       0.9817477 , 1.17809725, 1.37444679, 1.57079633, 1.76714587,\n",
      "       1.96349541, 2.15984495, 2.35619449, 2.55254403, 2.74889357,\n",
      "       2.94524311]), 3: ['hot', 'dogs']} ['a', 'b', 'c', 'd'] [[1 2]\n",
      " [3 4]]\n"
     ]
    }
   ],
   "source": [
    "f_out=open('temp3.pkl', 'wb')\n",
    "pickle.dump( (a,b,c,d), f_out)\n",
    "f_out.close()\n",
    "##### New Session ####\n",
    "f_in=open('temp3.pkl', 'rb')\n",
    "w,x,y,z = pickle.load(f_in) # multiple assignment FTW!\n",
    "f_in.close()\n",
    "print(w,x,y,z)"
   ]
  },
  {
   "cell_type": "markdown",
   "metadata": {},
   "source": [
    "If you are given a pickle file and don't know how many objects have been pickle-dumped into it, this snippet of code helps:"
   ]
  },
  {
   "cell_type": "code",
   "execution_count": 46,
   "metadata": {},
   "outputs": [
    {
     "name": "stdout",
     "output_type": "stream",
     "text": [
      "[['a', 'b', 'c', 'd'], matrix([[1, 2],\n",
      "        [3, 4]])]\n"
     ]
    }
   ],
   "source": [
    "f_in=open('temp2.pkl', 'rb')  # Open the file.\n",
    "data = []  # Create an empty list.\n",
    "while True:\n",
    "    try:\n",
    "        data.append(pickle.load(f_in))\n",
    "    except:\n",
    "        break\n",
    "print(data)"
   ]
  },
  {
   "cell_type": "markdown",
   "metadata": {},
   "source": [
    "A lot just happened there.  First we opened our file and created a new but empty list object.  Then, we start an infinite loop.  For each iteration of this\n",
    "loop, we use the **try** statement to *attempt* to read a pickled object from that file.  If successful, the object is *appended* onto the list (the list\n",
    "grows in size and the new object is put into the new list slot.)  If there are no more pickles to load in our file, the **try** statement fails, but the \n",
    "*IOError* exception doesn't cause our code to fail.  Rather, the exception is *caught*, and control is handed to the **except** clause, which tells the\n",
    "**while** loop to break.  While this may not be the most efficient or elegant way to approach this problem, it exemplifies Python's exception handling\n",
    "capabilities which we will explore later."
   ]
  }
 ],
 "metadata": {
  "kernelspec": {
   "display_name": "Python 3",
   "language": "python",
   "name": "python3"
  },
  "language_info": {
   "codemirror_mode": {
    "name": "ipython",
    "version": 3
   },
   "file_extension": ".py",
   "mimetype": "text/x-python",
   "name": "python",
   "nbconvert_exporter": "python",
   "pygments_lexer": "ipython3",
   "version": "3.7.3"
  }
 },
 "nbformat": 4,
 "nbformat_minor": 1
}
