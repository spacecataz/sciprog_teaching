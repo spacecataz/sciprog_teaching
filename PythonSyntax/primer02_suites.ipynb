{
 "cells": [
  {
   "cell_type": "markdown",
   "metadata": {},
   "source": [
    "Python Code Suites: Conditionals, Loops, and Functions\n",
    "==================\n",
    "Blocks of Python code are called *suites*; suites are delimited by tabs, not brackets or end statements.\n",
    "\n",
    "IF Statements\n",
    "-----------\n",
    "As with all code suites, tabs mark what belongs to what suite.  Beyond tabs, no big surprises here."
   ]
  },
  {
   "cell_type": "code",
   "execution_count": 13,
   "metadata": {},
   "outputs": [
    {
     "name": "stdout",
     "output_type": "stream",
     "text": [
      "A WINNAR IS YOU!\n"
     ]
    }
   ],
   "source": [
    "if True:\n",
    "    print('A WINNAR IS YOU!')\n",
    "if False:\n",
    "    print('YOU FAILED IT.')"
   ]
  },
  {
   "cell_type": "markdown",
   "metadata": {},
   "source": [
    "Note the use of reserved words **True** and **False** (case matters in Python!)  \n",
    "Things that are also **True**:\n",
    "\n",
    "+  Non-empty lists/tuples/dictionaries.\n",
    "+  Non-null strings.\n",
    "+  Declared objects, functions, etc.\n",
    "\n",
    "It follows that these things are **False**:\n",
    "\n",
    "+  Empty lists/tuples/dictionaries.\n",
    "+  Null strings ('').\n",
    "+  The **None** object."
   ]
  },
  {
   "cell_type": "code",
   "execution_count": 14,
   "metadata": {},
   "outputs": [
    {
     "name": "stdout",
     "output_type": "stream",
     "text": [
      "Non-null strings!\n",
      "Lists with elements!\n",
      "Declared functions!\n"
     ]
    }
   ],
   "source": [
    "if 'A word':\n",
    "    print('Non-null strings!')\n",
    "if [1,2,3]:\n",
    "    print('Lists with elements!')\n",
    "if lambda x: x**2:\n",
    "    print('Declared functions!')"
   ]
  },
  {
   "cell_type": "code",
   "execution_count": 15,
   "metadata": {},
   "outputs": [],
   "source": [
    "if '':\n",
    "    print('Null strings!')\n",
    "if []:\n",
    "    print('Empty strings!')\n",
    "if None:\n",
    "    print('None objects!')"
   ]
  },
  {
   "cell_type": "markdown",
   "metadata": {},
   "source": [
    "The usual relational operators apply.\n",
    "\n",
    "+  == (equality)\n",
    "+  != (inequality)\n",
    "+  <, >, <=, >= (less than, etc.)\n",
    "+  and, or"
   ]
  },
  {
   "cell_type": "code",
   "execution_count": 16,
   "metadata": {},
   "outputs": [
    {
     "name": "stdout",
     "output_type": "stream",
     "text": [
      "You betcha.\n"
     ]
    }
   ],
   "source": [
    "if (3>1) and ('abcd'=='abcdefg'[0:4]):\n",
    "    print('You betcha.')"
   ]
  },
  {
   "cell_type": "markdown",
   "metadata": {},
   "source": [
    "Using tabs to delimit different suites makes code easy to read, even if you nest suites!"
   ]
  },
  {
   "cell_type": "code",
   "execution_count": 17,
   "metadata": {},
   "outputs": [
    {
     "name": "stdout",
     "output_type": "stream",
     "text": [
      "Some commands before!\n",
      "Many of them.\n",
      "Inside a nested suite.\n",
      "Continue nested suite.\n",
      "This line is in the outer \"if\" statement.\n",
      "This command ends the outer suite.\n"
     ]
    }
   ],
   "source": [
    "if True:\n",
    "    print('Some commands before!')\n",
    "    print('Many of them.')\n",
    "    if True:\n",
    "        print('Inside a nested suite.')\n",
    "        print('Continue nested suite.')\n",
    "    print('This line is in the outer \"if\" statement.')\n",
    "print('This command ends the outer suite.')"
   ]
  },
  {
   "cell_type": "markdown",
   "metadata": {},
   "source": [
    "Finally, there's the extra conditionals."
   ]
  },
  {
   "cell_type": "code",
   "execution_count": 18,
   "metadata": {},
   "outputs": [
    {
     "name": "stdout",
     "output_type": "stream",
     "text": [
      "This one!\n"
     ]
    }
   ],
   "source": [
    "if False:\n",
    "    print('Not this one.')\n",
    "elif False:\n",
    "    print('Nor this one.')\n",
    "else:\n",
    "    print('This one!')"
   ]
  },
  {
   "cell_type": "markdown",
   "metadata": {},
   "source": [
    "Note the absence of a \"case\" or \"switch\" statement in Python.  Many options require many _if-elif-else_ conditionals (or, preferably, a more _pythonic_ approach to your code!)\n",
    "\n",
    "One final thing: all code suites must have some code; you can't have empty suites.  If you need an empty suite (usually for a temporary placeholder), use the **pass** statement."
   ]
  },
  {
   "cell_type": "code",
   "execution_count": 19,
   "metadata": {},
   "outputs": [],
   "source": [
    "# This suite does nothing.\n",
    "if True:\n",
    "    pass"
   ]
  },
  {
   "cell_type": "markdown",
   "metadata": {},
   "source": [
    "WHILE Loops\n",
    "-----------\n",
    "Again, this is pretty standard.  The loop continues so long as the *while* conditional is met.  "
   ]
  },
  {
   "cell_type": "code",
   "execution_count": 20,
   "metadata": {},
   "outputs": [
    {
     "name": "stdout",
     "output_type": "stream",
     "text": [
      "Numba 0\n",
      "Numba 1\n",
      "Numba 2\n",
      "Numba 3\n",
      "Numba 4\n"
     ]
    }
   ],
   "source": [
    "i=0\n",
    "while i<5:\n",
    "    print('Numba {0}'.format(i))\n",
    "    i+=1"
   ]
  },
  {
   "cell_type": "markdown",
   "metadata": {},
   "source": [
    "**break** leaves the current loop; **continue** jumps immediately to the next iteration."
   ]
  },
  {
   "cell_type": "code",
   "execution_count": 21,
   "metadata": {},
   "outputs": [
    {
     "name": "stdout",
     "output_type": "stream",
     "text": [
      "1\n",
      "3\n",
      "4\n"
     ]
    }
   ],
   "source": [
    "i=0\n",
    "while i< 35:\n",
    "    i+=1\n",
    "    if i==2: continue  # If i==2, jump to the next iteration.\n",
    "    if i==5: break     # If i==5, leave the loop outright.\n",
    "    print(i)"
   ]
  },
  {
   "cell_type": "markdown",
   "metadata": {},
   "source": [
    "An Interlude: Iterators\n",
    "-----------------\n",
    "A key to understanding Python **for** loops is the idea of iterators.  \n",
    "First, life without iterators: Let's suppose we want to loop over each of the elements of this list. We could use a while loop to progress through each list index...\n",
    " "
   ]
  },
  {
   "cell_type": "code",
   "execution_count": 22,
   "metadata": {},
   "outputs": [
    {
     "name": "stdout",
     "output_type": "stream",
     "text": [
      "a\n",
      "b\n",
      "c\n",
      "d\n",
      "e\n"
     ]
    }
   ],
   "source": [
    "a=['a','b','c','d','e']\n",
    "i=0\n",
    "while i<len(a):\n",
    "    print(a[i])\n",
    "    i+=1"
   ]
  },
  {
   "cell_type": "markdown",
   "metadata": {},
   "source": [
    "Or, use an iterator.  Iterators have special object methods that return the next item in order from what was used to make the iterator.  You can turn any sequence into an iterator using the **iter()** generator function. Then, we can use the intrinsic function **next()** to get the next item in turn from the iterator, removing the onus of keeping track of the next entry in our loop:"
   ]
  },
  {
   "cell_type": "code",
   "execution_count": 23,
   "metadata": {},
   "outputs": [
    {
     "name": "stdout",
     "output_type": "stream",
     "text": [
      "a\n",
      "b\n",
      "c\n",
      "d\n",
      "e\n"
     ]
    },
    {
     "ename": "StopIteration",
     "evalue": "",
     "output_type": "error",
     "traceback": [
      "\u001b[0;31m---------------------------------------------------------------------------\u001b[0m",
      "\u001b[0;31mStopIteration\u001b[0m                             Traceback (most recent call last)",
      "\u001b[0;32m<ipython-input-23-95b3b06e5e86>\u001b[0m in \u001b[0;36m<module>\u001b[0;34m\u001b[0m\n\u001b[1;32m      1\u001b[0m \u001b[0mb\u001b[0m\u001b[0;34m=\u001b[0m\u001b[0miter\u001b[0m\u001b[0;34m(\u001b[0m\u001b[0ma\u001b[0m\u001b[0;34m)\u001b[0m\u001b[0;34m\u001b[0m\u001b[0;34m\u001b[0m\u001b[0m\n\u001b[1;32m      2\u001b[0m \u001b[0;32mwhile\u001b[0m \u001b[0;32mTrue\u001b[0m\u001b[0;34m:\u001b[0m\u001b[0;34m\u001b[0m\u001b[0;34m\u001b[0m\u001b[0m\n\u001b[0;32m----> 3\u001b[0;31m     \u001b[0mprint\u001b[0m\u001b[0;34m(\u001b[0m\u001b[0mnext\u001b[0m\u001b[0;34m(\u001b[0m\u001b[0mb\u001b[0m\u001b[0;34m)\u001b[0m\u001b[0;34m)\u001b[0m\u001b[0;34m\u001b[0m\u001b[0;34m\u001b[0m\u001b[0m\n\u001b[0m",
      "\u001b[0;31mStopIteration\u001b[0m: "
     ]
    }
   ],
   "source": [
    "b=iter(a)\n",
    "while True:\n",
    "    print(next(b))"
   ]
  },
  {
   "cell_type": "markdown",
   "metadata": {},
   "source": [
    "What did this buy us?  Not much.  We didn't need to keep track of our index integer, but when we ran out of things to iterate over, our program just crashed.  We need a way to catch the error and stop the loop (this is actually pretty easy, but not practical.  The beauty of Python **for** loops is that they generate an iterator, employ the **next** function internally, and stop when you're out of items.  It's that easy."
   ]
  },
  {
   "cell_type": "code",
   "execution_count": 24,
   "metadata": {},
   "outputs": [
    {
     "name": "stdout",
     "output_type": "stream",
     "text": [
      "Our item is a.\n",
      "Our item is b.\n",
      "Our item is c.\n",
      "Our item is d.\n",
      "Our item is e.\n"
     ]
    }
   ],
   "source": [
    "for item in a:\n",
    "    print('Our item is {}.'.format(item))"
   ]
  },
  {
   "cell_type": "markdown",
   "metadata": {},
   "source": [
    "What makes this especially powerful is the Pythonic concept of multiple assignments.  "
   ]
  },
  {
   "cell_type": "code",
   "execution_count": 25,
   "metadata": {},
   "outputs": [
    {
     "name": "stdout",
     "output_type": "stream",
     "text": [
      "#1 is \"a\"\n",
      "#2 is \"b\"\n",
      "#3 is \"e\"\n"
     ]
    }
   ],
   "source": [
    "dbl_list = [ [1,'a'], [2,'b'], [3, 'e'] ]\n",
    "for a, b in dbl_list:\n",
    "    print('#{0} is \"{1}\"'.format(a, b))"
   ]
  },
  {
   "cell_type": "markdown",
   "metadata": {},
   "source": [
    "What happened here is that each item that our iterator returns is a single entry from our list, \"dbl_list\".  Each entry is a sublist with two sub-elements, so we assign each sub-element to its own variable in our **for** loop.  Our \"dbl_list\" is inconvenient, but there are a bunch of built-in functions that make **for** very, very powerful.  **enumerate()** returns a set of index-value pairs while **zip()** zips multiple sequences together by like-element pairs (or more)."
   ]
  },
  {
   "cell_type": "code",
   "execution_count": 26,
   "metadata": {},
   "outputs": [
    {
     "name": "stdout",
     "output_type": "stream",
     "text": [
      "Animal #0 is dog\n",
      "Animal #1 is cat\n",
      "Animal #2 is bobcat\n",
      "dog puppy bazooka\n",
      "cat kitten tank\n",
      "bobcat bobkitty lazer\n"
     ]
    }
   ],
   "source": [
    "list1=['dog', 'cat', 'bobcat']\n",
    "list2=['puppy','kitten', 'bobkitty']\n",
    "list3=['bazooka','tank','lazer']\n",
    "\n",
    "for i, a in enumerate(list1):\n",
    "    print('Animal #{0} is {1}'.format(i, a))\n",
    "    \n",
    "for a, b, c in zip(list1, list2, list3):\n",
    "    print(a, b, c)"
   ]
  },
  {
   "cell_type": "markdown",
   "metadata": {},
   "source": [
    "A lot of things can be put into **for** loops to create magic:"
   ]
  },
  {
   "cell_type": "code",
   "execution_count": 27,
   "metadata": {},
   "outputs": [
    {
     "name": "stdout",
     "output_type": "stream",
     "text": [
      "House is grumpy.\n",
      "Wilson is considerate.\n"
     ]
    }
   ],
   "source": [
    "names = {'House':'Grumpy', 'Wilson':'Considerate'}\n",
    "for n in names:\n",
    "    print('{0} is {1}.'.format(n, names[n].lower()))"
   ]
  },
  {
   "cell_type": "markdown",
   "metadata": {},
   "source": [
    "Here, we declared a dictionary.  Then, our **for** loop created an iterator out of the dictionary keys.\n",
    "\n",
    "Finally, there are these amazing things called *list comprehensions*, where you can put a psuedo-**for** loop into a list and the magic happens."
   ]
  },
  {
   "cell_type": "code",
   "execution_count": 28,
   "metadata": {},
   "outputs": [
    {
     "name": "stdout",
     "output_type": "stream",
     "text": [
      "[0, 1, 4, 9, 16, 25]\n"
     ]
    }
   ],
   "source": [
    "a = [x**2 for x in range(6)]\n",
    "print(a)"
   ]
  },
  {
   "cell_type": "markdown",
   "metadata": {},
   "source": [
    "This is amazing and should be used often.\n",
    "Functions\n",
    "---------\n",
    "Functions are easy to declare and use in Python.  Let's declare one and dissect the pieces."
   ]
  },
  {
   "cell_type": "code",
   "execution_count": 29,
   "metadata": {},
   "outputs": [],
   "source": [
    "def example(arg1, arg2, kwarg1='Default', kwarg2=None):\n",
    "    '''Use docstrings every time!'''\n",
    "    print('Our first required argument is ', arg1)\n",
    "    print('Our first keyword argument is ', kwarg1)\n",
    "    if kwarg2:\n",
    "        print('Second keyword set!')\n",
    "    return 1, 2, 'dog'\n",
    "string = 'Remember, ending the tabbed environment closes suites.'"
   ]
  },
  {
   "cell_type": "code",
   "execution_count": 30,
   "metadata": {},
   "outputs": [
    {
     "name": "stdout",
     "output_type": "stream",
     "text": [
      "Help on function example in module __main__:\n",
      "\n",
      "example(arg1, arg2, kwarg1='Default', kwarg2=None)\n",
      "    Use docstrings every time!\n",
      "\n"
     ]
    }
   ],
   "source": [
    "help(example)"
   ]
  },
  {
   "cell_type": "code",
   "execution_count": 31,
   "metadata": {},
   "outputs": [
    {
     "name": "stdout",
     "output_type": "stream",
     "text": [
      "Our first required argument is  ARG1\n",
      "Our first keyword argument is  Default\n",
      "Second keyword set!\n"
     ]
    }
   ],
   "source": [
    "a, b, c = example('ARG1', 'ARG2', kwarg2='ARG3')"
   ]
  },
  {
   "cell_type": "code",
   "execution_count": 32,
   "metadata": {},
   "outputs": [
    {
     "name": "stdout",
     "output_type": "stream",
     "text": [
      "Our first required argument is  ARG1\n",
      "Our first keyword argument is  ARG3\n",
      "Second keyword set!\n",
      "(1, 2, 'dog')\n"
     ]
    }
   ],
   "source": [
    "group = example('ARG1', 'ARG2', 'ARG3', 'ARG4')\n",
    "print(group)"
   ]
  },
  {
   "cell_type": "markdown",
   "metadata": {},
   "source": [
    "As you can see, you can declare any number of required arguments (*args*) and any number of keyword arguments (*kwargs*).  Regular args must be given and in the correct order.  Keyword arguments (*kwargs*) are optional and can either be listed in the correct number and order OR be given in any arbitrary order so long as the keyword is supplied.  Any number of values can be returned, and they can be assigned individually or as a grouped tuple.  ALWAYS, ALWAYS USE A DOCSTRING.  The block string after the declaration is your function's documentation!  Try typing \"example?\" in IPython!\n",
    "\n",
    "Don't forget that functions are objects!  You can hand a function to a function as an argument, put them in lists and dictionaries, so on and so forth."
   ]
  },
  {
   "cell_type": "code",
   "execution_count": 33,
   "metadata": {},
   "outputs": [
    {
     "name": "stdout",
     "output_type": "stream",
     "text": [
      "Func is  <function example at 0x1049477b8>\n"
     ]
    }
   ],
   "source": [
    "def ex2(func):\n",
    "    print('Func is ', func)\n",
    "ex2(example)"
   ]
  },
  {
   "cell_type": "markdown",
   "metadata": {},
   "source": [
    "Because functions are their own objects, you can set attributes and new methods.  This mechanism allows them to act as new name spaces."
   ]
  },
  {
   "cell_type": "code",
   "execution_count": 34,
   "metadata": {},
   "outputs": [
    {
     "name": "stdout",
     "output_type": "stream",
     "text": [
      "woof bark\n"
     ]
    }
   ],
   "source": [
    "dog = 'woof'\n",
    "ex2.dog='bark'\n",
    "print(dog, ex2.dog) # The two variables do not overwrite because they are in different name spaces."
   ]
  },
  {
   "cell_type": "markdown",
   "metadata": {},
   "source": [
    "Lastly, functions can be defined *in line* using the **lambda** command.  Let's create a simple function, then see how **lambda** makes it faster to declare."
   ]
  },
  {
   "cell_type": "code",
   "execution_count": 35,
   "metadata": {},
   "outputs": [
    {
     "name": "stdout",
     "output_type": "stream",
     "text": [
      "16\n",
      "16\n"
     ]
    }
   ],
   "source": [
    "def square(x):\n",
    "    return x**2\n",
    "sqr = lambda x: x**2\n",
    "    \n",
    "print(square(4))\n",
    "print(sqr(4))"
   ]
  },
  {
   "cell_type": "markdown",
   "metadata": {},
   "source": [
    "The **lambda** syntax is useful for quick function declarations, especially when you want to create a function directly in a list or dictionary.  They are also very nice for list comprehensions!"
   ]
  },
  {
   "cell_type": "code",
   "execution_count": 36,
   "metadata": {},
   "outputs": [
    {
     "name": "stdout",
     "output_type": "stream",
     "text": [
      "625\n",
      "1255.0\n",
      "3.75\n"
     ]
    }
   ],
   "source": [
    "funcs = [lambda x: x**2, lambda x: 2.*x**2+5, lambda x: 3./4. * x**0.5]\n",
    "for f in funcs:\n",
    "    print(f(25))"
   ]
  }
 ],
 "metadata": {
  "kernelspec": {
   "display_name": "Python 3",
   "language": "python",
   "name": "python3"
  },
  "language_info": {
   "codemirror_mode": {
    "name": "ipython",
    "version": 3
   },
   "file_extension": ".py",
   "mimetype": "text/x-python",
   "name": "python",
   "nbconvert_exporter": "python",
   "pygments_lexer": "ipython3",
   "version": "3.7.3"
  }
 },
 "nbformat": 4,
 "nbformat_minor": 1
}
