{
 "cells": [
  {
   "cell_type": "markdown",
   "metadata": {},
   "source": [
    "Reusable Code: Modules\n",
    "===============\n",
    "So far, the code we've explored has been simple snippets relegated to the IPython notebook window.  We will obviously want reusable code and callable\n",
    "scripts that we can execute from the command line.  But how?\n",
    "\n",
    "The Unix-initiated will immediately turn towards the *shebang*.  Add it to the top of a source code file, make the file executable (*chmod +x [filename]*),\n",
    "then call the code like a normal script.  \n",
    "\n",
    "For this tutorial, the IPython notebook will not be useful.  Copy and paste this code into a separate file:"
   ]
  },
  {
   "cell_type": "code",
   "execution_count": 1,
   "metadata": {},
   "outputs": [
    {
     "name": "stdout",
     "output_type": "stream",
     "text": [
      "Hello world\n",
      "\n"
     ]
    }
   ],
   "source": [
    "#!/usr/bin/env python\n",
    "'''\n",
    "Hello world, the script.\n",
    "'''\n",
    "\n",
    "print('Hello world\\n')"
   ]
  },
  {
   "cell_type": "markdown",
   "metadata": {},
   "source": [
    "When we save this file as *hello_world.py* (note the common *.py* extension), we can call it from the command line like a normal script.  We can do this by either running python on our file:\n",
    "\n",
    "> `python hello_world.py`\n",
    "\n",
    "or by making the file an executable:\n",
    "\n",
    "> `chmod +x hello_world.py`\n",
    "> `./hello_world.py`\n",
    "\n",
    "What if we want\n",
    "to run all of these commands inside of the IPython shell?  We can do so easily with the magic of **run**."
   ]
  },
  {
   "cell_type": "code",
   "execution_count": 2,
   "metadata": {},
   "outputs": [
    {
     "name": "stdout",
     "output_type": "stream",
     "text": [
      "Hello world\n",
      "\n"
     ]
    }
   ],
   "source": [
    "run hello_world.py"
   ]
  },
  {
   "cell_type": "markdown",
   "metadata": {},
   "source": [
    "These are both fine and well, but it is important to note that all files like this are Python *modules*, similar to all modules that we have used to date\n",
    "(e.g. **cPickle**, **numpy**, and anything else that followed the *import* command.)  Let's import our file like a module."
   ]
  },
  {
   "cell_type": "code",
   "execution_count": 3,
   "metadata": {},
   "outputs": [
    {
     "name": "stdout",
     "output_type": "stream",
     "text": [
      "Hello world\n",
      "\n"
     ]
    }
   ],
   "source": [
    "import hello_world"
   ]
  },
  {
   "cell_type": "markdown",
   "metadata": {},
   "source": [
    "When you import a Python module (which is simply a text file with Python commands), **each and every line of the file is executed as if you typed it \n",
    "into the terminal.**  Note that we did NOT include the file extension (.py).  Furthermore, the module is assigned to the variable with the same name as the \n",
    "module itself by default.  We now have a *module object*, \"hello_world\", that contains variables, functions, etc. that were defined inside of that module.\n",
    "Because our module was empty, it's pretty useless.  We'll fix that soon.\n",
    "\n",
    "Let's import again."
   ]
  },
  {
   "cell_type": "code",
   "execution_count": 4,
   "metadata": {},
   "outputs": [],
   "source": [
    "import hello_world"
   ]
  },
  {
   "cell_type": "markdown",
   "metadata": {},
   "source": [
    "Nothing happened.  After a module has been imported, **a second import will not re-run the code in the module until the session is restarted**.  \n",
    "This makes sense: many different parts of\n",
    "large codes use the same modules, re-loading them every time would be wasteful.  If you must reload it (for example, the source code has changed), use\n",
    "**reload()**"
   ]
  },
  {
   "cell_type": "code",
   "execution_count": 5,
   "metadata": {},
   "outputs": [
    {
     "name": "stdout",
     "output_type": "stream",
     "text": [
      "Hello world\n",
      "\n"
     ]
    },
    {
     "data": {
      "text/plain": [
       "<module 'hello_world' from '/Users/wellingdt/projects/python_website/notebooks/hello_world.py'>"
      ]
     },
     "execution_count": 5,
     "metadata": {},
     "output_type": "execute_result"
    }
   ],
   "source": [
    "from importlib import reload\n",
    "reload(hello_world)"
   ]
  },
  {
   "cell_type": "markdown",
   "metadata": {},
   "source": [
    "An important note: in python2.\\*, **reload** is a global-level command-- you don't need to import it.  In python3.\\*, we need to get it from **importlib**.\n",
    "\n",
    "Let's make a more useful module.  Save the following commands in 'mod1.py':"
   ]
  },
  {
   "cell_type": "code",
   "execution_count": 6,
   "metadata": {},
   "outputs": [],
   "source": [
    "'''\n",
    "A good doc string is your friend.\n",
    "'''\n",
    "\n",
    "var1 = 'dogs'\n",
    "var2 = range(21)\n",
    "\n",
    "def hello_world():\n",
    "    '''\n",
    "    Print Hello World.\n",
    "    '''\n",
    "    print(\"Hello World.\\n\")"
   ]
  },
  {
   "cell_type": "markdown",
   "metadata": {},
   "source": [
    "Now, import."
   ]
  },
  {
   "cell_type": "code",
   "execution_count": 7,
   "metadata": {},
   "outputs": [
    {
     "name": "stdout",
     "output_type": "stream",
     "text": [
      "Help on module mod1:\n",
      "\n",
      "NAME\n",
      "    mod1 - A good doc string is your friend.\n",
      "\n",
      "FUNCTIONS\n",
      "    hello_world()\n",
      "        Print Hello World.\n",
      "\n",
      "DATA\n",
      "    var1 = 'dogs'\n",
      "    var2 = range(0, 21)\n",
      "\n",
      "FILE\n",
      "    /Users/wellingdt/projects/python_website/notebooks/mod1.py\n",
      "\n",
      "\n",
      "dogs\n",
      "Hello World.\n",
      "\n"
     ]
    }
   ],
   "source": [
    "import mod1\n",
    "help(mod1)\n",
    "print(mod1.var1)\n",
    "mod1.hello_world()"
   ]
  },
  {
   "cell_type": "markdown",
   "metadata": {},
   "source": [
    "Notice how doc strings apply not just to functions, but also modules.  This is important for keeping well documented code.  Additionally, variables, \n",
    "functions, objects, etc. declared inside a module are accessible via the \"dot\" syntax that we recognize from the way we access object attributes and \n",
    "methods.  Long module names can lead to excessive typing.  For example, take the plotting library *Matplotlib* and it's sub-module, *pyplot*:"
   ]
  },
  {
   "cell_type": "code",
   "execution_count": 13,
   "metadata": {},
   "outputs": [
    {
     "data": {
      "text/plain": [
       "[<matplotlib.lines.Line2D at 0x110204978>]"
      ]
     },
     "execution_count": 13,
     "metadata": {},
     "output_type": "execute_result"
    },
    {
     "data": {
      "image/png": "[encoded data removed]",
      "text/plain": [
       "<Figure size 432x288 with 1 Axes>"
      ]
     },
     "metadata": {
      "needs_background": "light"
     },
     "output_type": "display_data"
    }
   ],
   "source": [
    "import matplotlib.pyplot\n",
    "matplotlib.pyplot.plot([0,1])"
   ]
  },
  {
   "cell_type": "markdown",
   "metadata": {},
   "source": [
    "Note the nested module heirarchy.  Matplotlib is a *package*, or a group of modules and sub-modules.  We'll get to that in a second.  The real problem here\n",
    "is that to access a simple 4-letter function, *plot*, we had to type quite a lot.  Python has several ways to handle this:\n",
    "\n",
    "1. Use the **as** syntax to assign long module names to a new subname.  This is the same as assigning module objects to a new variable.\n",
    "2. Use the **from** syntax to only import certain parts of a large module.\n",
    "3. Use __*__ syntax to dump the complete contents of the module into the current namespace.  This is not usually a good idea, as it can create messy, messy namespaces.\n",
    "\n",
    "Let's take a look at each in order:"
   ]
  },
  {
   "cell_type": "code",
   "execution_count": 9,
   "metadata": {},
   "outputs": [
    {
     "data": {
      "text/plain": [
       "[<matplotlib.lines.Line2D at 0x11007a518>]"
      ]
     },
     "execution_count": 9,
     "metadata": {},
     "output_type": "execute_result"
    },
    {
     "data": {
      "image/png": "[encoded data removed]",
      "text/plain": [
       "<Figure size 432x288 with 1 Axes>"
      ]
     },
     "metadata": {
      "needs_background": "light"
     },
     "output_type": "display_data"
    }
   ],
   "source": [
    "import matplotlib.pyplot as plt  # Rename the module for convenience.\n",
    "plt.plot([0,1])"
   ]
  },
  {
   "cell_type": "code",
   "execution_count": 10,
   "metadata": {},
   "outputs": [
    {
     "data": {
      "text/plain": [
       "[<matplotlib.lines.Line2D at 0x1101255c0>]"
      ]
     },
     "execution_count": 10,
     "metadata": {},
     "output_type": "execute_result"
    },
    {
     "data": {
      "image/png": "[encoded data removed]",
      "text/plain": [
       "<Figure size 432x288 with 1 Axes>"
      ]
     },
     "metadata": {
      "needs_background": "light"
     },
     "output_type": "display_data"
    }
   ],
   "source": [
    "from matplotlib.pyplot import plot  # Only import the items we want.\n",
    "plot([0,1])                         # Now, use the command as if it were declared in our current namespace."
   ]
  },
  {
   "cell_type": "code",
   "execution_count": 11,
   "metadata": {},
   "outputs": [
    {
     "data": {
      "text/plain": [
       "[<matplotlib.lines.Line2D at 0x110195630>]"
      ]
     },
     "execution_count": 11,
     "metadata": {},
     "output_type": "execute_result"
    },
    {
     "data": {
      "image/png": "[encoded data removed]",
      "text/plain": [
       "<Figure size 432x288 with 1 Axes>"
      ]
     },
     "metadata": {
      "needs_background": "light"
     },
     "output_type": "display_data"
    }
   ],
   "source": [
    "from matplotlib.pyplot import *  # !!! this is not usually a good idea !!!\n",
    "plot([0,1])                      # Everything from the module has been dumped into the current namespace."
   ]
  },
  {
   "cell_type": "markdown",
   "metadata": {},
   "source": [
    "It's important to organize your code intellegently into modules.  Combine classes, functions, and variables that are related into a single module and \n",
    "make them available to Python via the __PYTHONPATH__ environment variable.  If a single module grows too large, consider upgrading to a *package*, which\n",
    "is simply a folder full of modules.\n",
    "\n",
    "Finally, we saw that importing a module causes every single line of code inside of the module to execute.  This is not always desireable.  For example,\n",
    "you may write a script that contains many functions that are useful in other pieces of code.  Is it possible to make a source file act both as a callable\n",
    "script and as a module, running different pieces of code under different circumstances?\n",
    "\n",
    "Yes, actually.  This is a fairly common occurrence.  The key is the special intrinsic variable, **__name__**.  This variable tells us what namespace\n",
    "we are in when code is being run.  Add this line to your mod1.py file:\n",
    "\n",
    "    print(__name__)\n",
    "\n",
    "Once this is added, run the following example:"
   ]
  },
  {
   "cell_type": "code",
   "execution_count": 17,
   "metadata": {},
   "outputs": [
    {
     "name": "stdout",
     "output_type": "stream",
     "text": [
      "__main__\n",
      "mod1\n"
     ]
    },
    {
     "data": {
      "text/plain": [
       "<module 'mod1' from '/Users/wellingdt/projects/python_website/notebooks/mod1.py'>"
      ]
     },
     "execution_count": 17,
     "metadata": {},
     "output_type": "execute_result"
    }
   ],
   "source": [
    "print(__name__) # Top-level namespace.\n",
    "reload(mod1)"
   ]
  },
  {
   "cell_type": "markdown",
   "metadata": {},
   "source": [
    "The name of our top-level namespace that we are accessing interactively is **__main__**.  The namespace in which our module was executed while importing \n",
    "is the same name of the module.  We can change this if we either execute *mod1.py* from the command line or use IPython's **run** function:"
   ]
  },
  {
   "cell_type": "code",
   "execution_count": 16,
   "metadata": {},
   "outputs": [],
   "source": [
    "run mod1.py"
   ]
  },
  {
   "cell_type": "markdown",
   "metadata": {},
   "source": [
    "Interestingly, the module is now executed in the **__main__** namespace.  Because Python code knows where it is being executed, we can use this to make our\n",
    "modules do double-duty as scripts or full programs.  Remove the `print __name__` statement and add these lines to *mod1.py*:\n",
    "\n",
    "    if __name__ == '__main__':\n",
    "        print('Running in script mode!')\n",
    "\n",
    "Now, run this example."
   ]
  },
  {
   "cell_type": "code",
   "execution_count": 18,
   "metadata": {},
   "outputs": [
    {
     "name": "stdout",
     "output_type": "stream",
     "text": [
      "mod1\n"
     ]
    },
    {
     "data": {
      "text/plain": [
       "<module 'mod1' from '/Users/wellingdt/projects/python_website/notebooks/mod1.py'>"
      ]
     },
     "execution_count": 18,
     "metadata": {},
     "output_type": "execute_result"
    }
   ],
   "source": [
    "reload(mod1)  # Run in module mode."
   ]
  },
  {
   "cell_type": "code",
   "execution_count": 19,
   "metadata": {},
   "outputs": [
    {
     "name": "stdout",
     "output_type": "stream",
     "text": [
      "__main__\n",
      "Running in script mode!\n"
     ]
    }
   ],
   "source": [
    "run mod1.py   # Run in script mode."
   ]
  },
  {
   "cell_type": "markdown",
   "metadata": {},
   "source": [
    "From this example, you should see that how you run a Python source file matters.  If you want a file to double as a module and a script, put the code that\n",
    "you want to execute only in script mode under a `if __name__ == '__main__':` code block."
   ]
  }
 ],
 "metadata": {
  "kernelspec": {
   "display_name": "Python 3",
   "language": "python",
   "name": "python3"
  },
  "language_info": {
   "codemirror_mode": {
    "name": "ipython",
    "version": 3
   },
   "file_extension": ".py",
   "mimetype": "text/x-python",
   "name": "python",
   "nbconvert_exporter": "python",
   "pygments_lexer": "ipython3",
   "version": "3.7.3"
  }
 },
 "nbformat": 4,
 "nbformat_minor": 1
}
