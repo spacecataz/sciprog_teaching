{
 "cells": [
  {
   "cell_type": "markdown",
   "metadata": {},
   "source": [
    "String Formatting: The Gory Details\n",
    "===================\n",
    "Creating well-formatted strings is one of the most useful skills in any language.  It is necessary for creating readable ASCII files, clean plot titles, and text that reflects the result of a dynamic calculation.\n",
    "Let's explore the syntax for doing this in Python.\n",
    "\n",
    "String formatting comes via a process known as **string interpolation**.  String interpolation is when the python interpreter takes a string value as typed and replaces certain characters with characters not easily typed- newlines, the values from variables, or special symbols.  To indicate where in a string interpolation should occur, we'll use two tools: **escape characters** and **replacement fields**.  There are different types of strings and string methods that allow us to control when, where, and how interpolation happens.\n",
    "\n",
    "Many of the concepts explored here in Python exist in other programming languages.  The functions, syntax, and end result can, of course, vary with each language.\n",
    "\n",
    "\n",
    "Escape Characters\n",
    "-------------\n",
    "Let's start with **escape characters** (also known as **escape sequences**), which give us a way to type the untypeable.  To wit,"
   ]
  },
  {
   "cell_type": "code",
   "execution_count": 4,
   "metadata": {},
   "outputs": [
    {
     "name": "stdout",
     "output_type": "stream",
     "text": [
      "I want\tto add some\ttabs in here\t.\n"
     ]
    }
   ],
   "source": [
    "print( 'I want\\tto add some\\ttabs in here\\t.')"
   ]
  },
  {
   "cell_type": "markdown",
   "metadata": {},
   "source": [
    "When Python prints the string to screen, it performs interpolation.  Backslashes indicate what characters to 'escape' (you'll hear people say that you need to \"escape that character\", which means to precede it with a backslash).  In this case, an escaped \"t\" (`\\t`) equates to a tab character.  Let's look at some more:"
   ]
  },
  {
   "cell_type": "code",
   "execution_count": 16,
   "metadata": {},
   "outputs": [
    {
     "name": "stdout",
     "output_type": "stream",
     "text": [
      "New lines \n",
      " are done with \\n\n",
      "If you need 'nested quotes', you can escape them.\n",
      "Backspaces will delete characters\b\b\b\b\b\b\n",
      "My favorite is the ASCII bell! \u0007\n",
      "We can produce unicode characters, too: ♥🐍\n"
     ]
    }
   ],
   "source": [
    "print('New lines \\n are done with \\\\n') # You can \"escape an escape\" with a double backslash.\n",
    "print('If you need \\'nested quotes\\', you can escape them.')\n",
    "print('Backspaces will delete characters'+6*'\\b') # Note the multiplication of a string.\n",
    "print('My favorite is the ASCII bell! \\a')  # Only works in some environments\n",
    "print('We can produce unicode characters, too: \\u2665\\U0001F40D') # I love me some python."
   ]
  },
  {
   "cell_type": "markdown",
   "metadata": {},
   "source": [
    "There are many useful escape characters, here is a complete list.  Note that some work differently in different environments.  For example, the form feed escape character (`\\f`) doesn't work properly within Jupyter notebooks.\n",
    "\n",
    "| Escape Sequence | Result |\n",
    "|:----------------|:-------|\n",
    "|`\\'`, `\\\"`|Prints quotes without closing string in source code.|\n",
    "|`\\f`|Form feed: moves cursor down one line without changing horizontal position.|\n",
    "|`\\r`|Carriage return: returns cursor to beginning of current line.|\n",
    "|`\\n`|Newline: form feed *and* carriage return. |\n",
    "|`\\b`|Backspace, will delete previous character.|\n",
    "|`\\t`|Inserts tab character.|\n",
    "|`\\a`|Plays system bell/alarm; only works in some environments. |\n",
    "|`\\\\`|Inserts a backspace character.|\n",
    "|`\\o*`,`\\x*`|Print character by octal or hexidecimal value, where `*` is replaced by a two-digit value.|\n",
    "|`\\u*`,`\\U*` |Insert 16/32 bit unicode character, where `*` is replaced with a hexidecimal code.|\n",
    "|`\\N{name}`|Print unicode character `name`.|\n"
   ]
  },
  {
   "cell_type": "markdown",
   "metadata": {},
   "source": [
    "Raw Strings & Special String Literals\n",
    "-----------\n",
    "So what if we *don't* want string interpolation?  This happens a lot- when writing file paths or regular expression syntax.  If you try to do this, string interpolation can cause exceptions or have other unsavory impacts on our work.  Take this example:"
   ]
  },
  {
   "cell_type": "code",
   "execution_count": 18,
   "metadata": {},
   "outputs": [
    {
     "name": "stdout",
     "output_type": "stream",
     "text": [
      "C:\\Program Files\\^%(x86)\\Internet Explorer\\iexplore.exe\n"
     ]
    }
   ],
   "source": [
    "file_path = ''\n",
    "print(file_path)"
   ]
  },
  {
   "cell_type": "code",
   "execution_count": null,
   "metadata": {},
   "outputs": [],
   "source": []
  }
 ],
 "metadata": {
  "kernelspec": {
   "display_name": "Python 3",
   "language": "python",
   "name": "python3"
  },
  "language_info": {
   "codemirror_mode": {
    "name": "ipython",
    "version": 3
   },
   "file_extension": ".py",
   "mimetype": "text/x-python",
   "name": "python",
   "nbconvert_exporter": "python",
   "pygments_lexer": "ipython3",
   "version": "3.7.3"
  }
 },
 "nbformat": 4,
 "nbformat_minor": 2
}
