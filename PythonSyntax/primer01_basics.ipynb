{
 "cells": [
  {
   "cell_type": "markdown",
   "metadata": {},
   "source": [
    "Python Variables, Sequences, Mappings, Objects and Pointers\n",
    "===========================================================\n",
    "\n",
    "Scalar Variable Types and Multiple Assignment\n",
    "------------------------\n",
    "We will jump in to Python the same way we do with other languages: learning how to assign and manipulate variables.  Here's our overly simplified Hello-World example:"
   ]
  },
  {
   "cell_type": "code",
   "execution_count": 1,
   "metadata": {},
   "outputs": [
    {
     "name": "stdout",
     "output_type": "stream",
     "text": [
      "5\n",
      "2.5\n",
      "(3+7j)\n",
      "False\n",
      "(15+35j)\n"
     ]
    }
   ],
   "source": [
    "a   = 5      # Integers\n",
    "B   = 2.5    # Floating point reals\n",
    "c10 = 3 + 7j # Complex numbers, 'j' sets the imaginary part.\n",
    "d_1 = False  # Boolean values\n",
    "print(a)\n",
    "print(B)\n",
    "print(c10)\n",
    "print(d_1)\n",
    "print( a * c10 )"
   ]
  },
  {
   "cell_type": "markdown",
   "metadata": {},
   "source": [
    "This bit of code illustrates several concepts:\n",
    "\n",
    "* There are four basic variable types: ints, floats, complex, and bools.\n",
    "* The usual rules apply for variable naming: Must start with a number, underscores and numbers allowed.\n",
    "* Python is **case sensitive**.  \"B\" is a declared variable, \"b\" is not!\n",
    "* Note that boolean True and False must capitalized.\n",
    "* We see our happy print statement acting as expected.  Hello, world!\n",
    "* In Python 3, mixed-mode arithmatic uses the highest precision variable type in the result.  **This was not true in Python 2.x!!**\n",
    "\n",
    "There are functions that allow us to change variable types (e.g., *int()* and *real()*).\n",
    "Let's define our values again, but differently.\n"
   ]
  },
  {
   "cell_type": "code",
   "execution_count": 22,
   "metadata": {},
   "outputs": [
    {
     "name": "stdout",
     "output_type": "stream",
     "text": [
      "1\n",
      "3\n",
      "10\n",
      "10\n"
     ]
    }
   ],
   "source": [
    "a, b, c = 1, 2, 3  # this is MULTIPLE ASSIGNMENT!\n",
    "print(a)\n",
    "print(c)\n",
    "var1 = var2 = var3 = 10  # This is also multiple assignment!\n",
    "print(var1)\n",
    "print(var3)"
   ]
  },
  {
   "cell_type": "markdown",
   "metadata": {},
   "source": [
    "This bit of code demonstrates a critical concept in Python: **Multiple Assignment**.  It seems trivial: we can define more than one variable in one line.  However, as you will see once we begin to work with loops and functions, it is an important concept to see how things operate in Python.  It's also very convenient. "
   ]
  },
  {
   "cell_type": "markdown",
   "metadata": {},
   "source": [
    "Sequences\n",
    "---------\n",
    "Let's continue with somewhat more complicated data types: sequences.  Sequences are anything that can be indexed in a set order.  Our first sequence type is... a string!"
   ]
  },
  {
   "cell_type": "code",
   "execution_count": 2,
   "metadata": {},
   "outputs": [
    {
     "name": "stdout",
     "output_type": "stream",
     "text": [
      "Our string is \"Ferrets are friends.\"\n",
      "Anoter way is to write \"Ferrets are friends.\"\n"
     ]
    }
   ],
   "source": [
    "a='Ferrets are friends.'\n",
    "print('Our string is \"%s\"' % a) # Old, c-like format codes.\n",
    "print('Anoter way is to write \"{}\"'.format(a))  # New, Python3-like format codes."
   ]
  },
  {
   "cell_type": "markdown",
   "metadata": {},
   "source": [
    "Here, we declare a string and store it using the variable name \"a\".  Then, we print it to screen with some extra text attached.  We use C-like \"%\" syntax to substitute variables into string literals.\n",
    "**NOTE**: This behavior has changed in Python 3 and is forward-compatible in Python 2.7.  Users should use the new formatting syntax, [summarized here](http://docs.python.org/2/library/string.html#formatstrings).  The old methods are [summarized here](http://mkaz.com/solog/python/python-string-format.html), mid-page, amongst other places.\n",
    "In the final line, we use the new Python3-like syntax.  That will be our standard moving forward.\n",
    "\n",
    "Sequences can be **indexed** and **sliced**.  Python indexing is useful if unsurprising:"
   ]
  },
  {
   "cell_type": "code",
   "execution_count": 3,
   "metadata": {},
   "outputs": [
    {
     "name": "stdout",
     "output_type": "stream",
     "text": [
      "r\n",
      "Fe\n",
      "Fresa\n",
      ".\n",
      ".sdneirf era sterreF\n"
     ]
    }
   ],
   "source": [
    "print(a[3])     # Index a single character.\n",
    "print(a[0:2])   # Slice a range (zero based, up to the last number!)\n",
    "print(a[0:10:2])# Use a third number to skip-count.\n",
    "print(a[-1])    # Negative indexing is useful!\n",
    "print(a[::-1])  # Backwards."
   ]
  },
  {
   "cell_type": "markdown",
   "metadata": {},
   "source": [
    "You can add strings and multiply them by integers."
   ]
  },
  {
   "cell_type": "code",
   "execution_count": 4,
   "metadata": {},
   "outputs": [
    {
     "name": "stdout",
     "output_type": "stream",
     "text": [
      "Ferrets are friends.\tSnakes, not so much.\n",
      "Ferrets are friends.\tFerrets are friends.\tFerrets are friends.\tFerrets are friends.\tFerrets are friends.\t\n"
     ]
    }
   ],
   "source": [
    "print(a + '\\tSnakes, not so much.')  # Note the usual escape character syntax.\n",
    "print(5*(a+'\\t'))"
   ]
  },
  {
   "cell_type": "markdown",
   "metadata": {},
   "source": [
    "We can check if something is _in_ a sequence.  Testing for **in** is very useful."
   ]
  },
  {
   "cell_type": "code",
   "execution_count": 5,
   "metadata": {},
   "outputs": [
    {
     "name": "stdout",
     "output_type": "stream",
     "text": [
      "True\n",
      "False\n"
     ]
    }
   ],
   "source": [
    "print('Ferrets' in a)\n",
    "print('Dogs' in a)"
   ]
  },
  {
   "cell_type": "markdown",
   "metadata": {},
   "source": [
    "Lists and Tuples are sequences just like strings, but each item can be ANYTHING.  The only difference between lists and tuples is that tuples use regular parentheses and are _immutable_, that is, they cannot be changed in place."
   ]
  },
  {
   "cell_type": "code",
   "execution_count": 6,
   "metadata": {},
   "outputs": [
    {
     "name": "stdout",
     "output_type": "stream",
     "text": [
      "[1, 3]\n"
     ]
    }
   ],
   "source": [
    "l1 = [1, 2, 3, 4] # A list of numbers.\n",
    "print(l1[0::2])"
   ]
  },
  {
   "cell_type": "code",
   "execution_count": 7,
   "metadata": {},
   "outputs": [
    {
     "name": "stdout",
     "output_type": "stream",
     "text": [
      "['a', 'list', 'of', 'string', 'sequences']\n"
     ]
    }
   ],
   "source": [
    "l2 = ['a', 'list', 'of', 'string', 'sequences']\n",
    "print(l2)"
   ]
  },
  {
   "cell_type": "markdown",
   "metadata": {},
   "source": [
    "Lists and tuples need not be homogenous.  Because each list item can be anything, you can nest lists inside lists.  To access an element within a list nested within a list, just use compound referencing:"
   ]
  },
  {
   "cell_type": "code",
   "execution_count": 8,
   "metadata": {},
   "outputs": [
    {
     "name": "stdout",
     "output_type": "stream",
     "text": [
      "nested\n"
     ]
    }
   ],
   "source": [
    "l3 = ['a list of', 'different things', 120, ['a', 'nested', 'sublist'], 12412.124]\n",
    "# Get to nested objects using a chain of proper syntax!\n",
    "print(l3[3][1])"
   ]
  },
  {
   "cell_type": "markdown",
   "metadata": {},
   "source": [
    "Note how this works: `l3` is a list; `l3[3]` is the 3rd item (0-based indexing, so 4th overall!), which is a list itself; the first item of the list within `l3[3]` is therefore `l3[3][1]`.  Leverage this nesting capability to build complicated but easy-to-navigate data structures.\n",
    "\n",
    "To demonstrate a previous point, watch what happens when we try to change a tuple:"
   ]
  },
  {
   "cell_type": "code",
   "execution_count": 10,
   "metadata": {},
   "outputs": [
    {
     "ename": "TypeError",
     "evalue": "'tuple' object does not support item assignment",
     "output_type": "error",
     "traceback": [
      "\u001b[0;31m---------------------------------------------------------------------------\u001b[0m",
      "\u001b[0;31mTypeError\u001b[0m                                 Traceback (most recent call last)",
      "\u001b[0;32m<ipython-input-10-5d57a7a2d219>\u001b[0m in \u001b[0;36m<module>\u001b[0;34m\u001b[0m\n\u001b[1;32m      1\u001b[0m \u001b[0mt1\u001b[0m \u001b[0;34m=\u001b[0m \u001b[0;34m(\u001b[0m\u001b[0;34m'Tuples'\u001b[0m\u001b[0;34m,\u001b[0m \u001b[0;34m'are'\u001b[0m\u001b[0;34m,\u001b[0m \u001b[0;34m'similar'\u001b[0m\u001b[0;34m)\u001b[0m\u001b[0;34m\u001b[0m\u001b[0;34m\u001b[0m\u001b[0m\n\u001b[0;32m----> 2\u001b[0;31m \u001b[0mt1\u001b[0m\u001b[0;34m[\u001b[0m\u001b[0;36m2\u001b[0m\u001b[0;34m]\u001b[0m \u001b[0;34m=\u001b[0m \u001b[0;34m(\u001b[0m\u001b[0;34m'but'\u001b[0m\u001b[0;34m,\u001b[0m \u001b[0;34m'cannot'\u001b[0m\u001b[0;34m,\u001b[0m \u001b[0;34m'be'\u001b[0m\u001b[0;34m,\u001b[0m \u001b[0;34m'changed'\u001b[0m\u001b[0;34m)\u001b[0m\u001b[0;34m\u001b[0m\u001b[0;34m\u001b[0m\u001b[0m\n\u001b[0m",
      "\u001b[0;31mTypeError\u001b[0m: 'tuple' object does not support item assignment"
     ]
    }
   ],
   "source": [
    "t1 = ('Tuples', 'are', 'similar')\n",
    "t1[2] = ('but', 'cannot', 'be', 'changed')"
   ]
  },
  {
   "cell_type": "markdown",
   "metadata": {},
   "source": [
    "Tuples are _immutable_; they cannot be changed.  Note that string sequences are also immutable:"
   ]
  },
  {
   "cell_type": "code",
   "execution_count": 11,
   "metadata": {},
   "outputs": [
    {
     "ename": "TypeError",
     "evalue": "'str' object does not support item assignment",
     "output_type": "error",
     "traceback": [
      "\u001b[0;31m---------------------------------------------------------------------------\u001b[0m",
      "\u001b[0;31mTypeError\u001b[0m                                 Traceback (most recent call last)",
      "\u001b[0;32m<ipython-input-11-2dd4540eb5a8>\u001b[0m in \u001b[0;36m<module>\u001b[0;34m\u001b[0m\n\u001b[0;32m----> 1\u001b[0;31m \u001b[0ma\u001b[0m\u001b[0;34m[\u001b[0m\u001b[0;36m3\u001b[0m\u001b[0;34m]\u001b[0m\u001b[0;34m=\u001b[0m\u001b[0;34m'B'\u001b[0m\u001b[0;34m\u001b[0m\u001b[0;34m\u001b[0m\u001b[0m\n\u001b[0m",
      "\u001b[0;31mTypeError\u001b[0m: 'str' object does not support item assignment"
     ]
    }
   ],
   "source": [
    "a[3]='B'"
   ]
  },
  {
   "cell_type": "markdown",
   "metadata": {},
   "source": [
    "Here's an interesting thing."
   ]
  },
  {
   "cell_type": "code",
   "execution_count": 12,
   "metadata": {},
   "outputs": [
    {
     "name": "stdout",
     "output_type": "stream",
     "text": [
      "[1, 2, 3, 4, 5] [1, 2, 3, 4, 5]\n",
      "[1, 2, 3, 4, 10] [1, 2, 3, 4, 10]\n"
     ]
    }
   ],
   "source": [
    "listA = [1,2,3,4,5]; listB = listA # Use semicolons to delimit separate commands on a single line.\n",
    "print(listA, listB)\n",
    "listA[-1] = 10\n",
    "print(listA, listB)"
   ]
  },
  {
   "cell_type": "markdown",
   "metadata": {},
   "source": [
    "Whoa.  We changed $a$, but both $a$ and $b$ are changed.  This is because **everything in Python is a pointer**.  This is important to keep in mind when writing programs.  Additionally, it means that Python passes everything by reference and not by value.\n",
    "\n",
    "There are several built in functions to work with sequences:"
   ]
  },
  {
   "cell_type": "code",
   "execution_count": 13,
   "metadata": {},
   "outputs": [
    {
     "name": "stdout",
     "output_type": "stream",
     "text": [
      "20\n",
      "1\n",
      "['F', 'e', 'r', 'r', 'e', 't', 's', ' ', 'a', 'r', 'e', ' ', 'f', 'r', 'i', 'e', 'n', 'd', 's', '.']\n"
     ]
    }
   ],
   "source": [
    "print(len(a))     # len gives length.\n",
    "print(min(l1))    # Min and max exist for lists of numbers.\n",
    "print(list(a))    # There are many conversion functions, too, like \"int\" and \"bool\""
   ]
  },
  {
   "cell_type": "markdown",
   "metadata": {},
   "source": [
    "But the real power to work with sequences lies not in Built In Functions (BIFs) but _object methods_.\n",
    "Python Objects\n",
    "--------------\n",
    "In python, **EVERYTHING IS AN OBJECT**.  That means that everything has _object attributes_ and _object methods_.  We access those using dot syntax.  Methods are just functions specific to that object while attributes are just values specific to that object.  To demonstrate, let's make a numpy array object, which is very similar to a list but has special attributes and methods.  Note that Numpy is an external package that may require installation.  [More information on Numpy can be found here.](http://www.numpy.org/)"
   ]
  },
  {
   "cell_type": "code",
   "execution_count": 14,
   "metadata": {},
   "outputs": [
    {
     "name": "stdout",
     "output_type": "stream",
     "text": [
      "[0 1 2 3 4]\n",
      "(5,)\n",
      "2.0\n",
      "<built-in method mean of numpy.ndarray object at 0x10ed87e40>\n"
     ]
    }
   ],
   "source": [
    "import numpy\n",
    "b=numpy.arange(5)\n",
    "print(b)       # This is what \"b\" looks like.\n",
    "print(b.shape) # This attribute tells us that \"b\" is 1D.\n",
    "print(b.mean())# This method gives us the mean of all values within \"b\".\n",
    "print(b.mean)  # Printing without the parentheses tells us it's a method."
   ]
  },
  {
   "cell_type": "markdown",
   "metadata": {},
   "source": [
    "By exploring object methods, we see that our sequences do a lot of really cool stuff.  Even better, the **help()** function (IPython's _?_ operator) and IPython's tab-complete allow for on-the-fly object exploration."
   ]
  },
  {
   "cell_type": "code",
   "execution_count": 15,
   "metadata": {},
   "outputs": [
    {
     "name": "stdout",
     "output_type": "stream",
     "text": [
      "Help on built-in function upper:\n",
      "\n",
      "upper() method of builtins.str instance\n",
      "    Return a copy of the string converted to uppercase.\n",
      "\n",
      "FERRETS ARE FRIENDS.\n"
     ]
    }
   ],
   "source": [
    "help(a.upper)\n",
    "print(a.upper())"
   ]
  },
  {
   "cell_type": "code",
   "execution_count": 16,
   "metadata": {},
   "outputs": [
    {
     "name": "stdout",
     "output_type": "stream",
     "text": [
      "Help on built-in function pop:\n",
      "\n",
      "pop(index=-1, /) method of builtins.list instance\n",
      "    Remove and return item at index (default last).\n",
      "    \n",
      "    Raises IndexError if list is empty or index is out of range.\n",
      "\n",
      "[1, 2, 3, 4]\n",
      "[2, 3, 4]\n"
     ]
    }
   ],
   "source": [
    "help(l1.pop)\n",
    "print(l1)\n",
    "l1.pop(0)\n",
    "print(l1)"
   ]
  },
  {
   "cell_type": "markdown",
   "metadata": {},
   "source": [
    "Eventually, we'll see how easy it is to build classes to stamp out our own customized objects with our own customized methods.  It's nice.\n",
    "Dictionaries\n",
    "------------\n",
    "Python's mapping object is called a dictionary.  For the uninitiated, mappings map a single number or string to an object in no particular order.  The relationship is known as a _key-value paring_.  A good use for them would be an address book, or for organizing groups of objects that are related but not necessarily ordered.  Let's play a bit."
   ]
  },
  {
   "cell_type": "code",
   "execution_count": 17,
   "metadata": {},
   "outputs": [
    {
     "name": "stdout",
     "output_type": "stream",
     "text": [
      "{'Dan': 'Super person', 'Aaron': 'Okay in small doses'}\n",
      "Dan sure is a super person.\n",
      "{'Dan': 'Super person', 'Aaron': 'Better over time.', 'Mike': 'Less vulgar than Aaron but more beardy.'}\n"
     ]
    }
   ],
   "source": [
    "d1 = {'Dan':'Super person', 'Aaron':'Okay in small doses'}  \n",
    "# Curly braces denote dictionaries, colons separate keys and values, comma separates pairs.\n",
    "print(d1)\n",
    "# Access a single value by key (note how we accessed our nested method):\n",
    "print(\"{0} sure is a {1}.\".format('Dan', d1['Dan'].lower()))\n",
    "# Change a value by key:\n",
    "d1['Aaron'] = 'Better over time.'\n",
    "# Add new values easily:\n",
    "d1['Mike'] = 'Less vulgar than Aaron but more beardy.'\n",
    "print(d1)"
   ]
  },
  {
   "cell_type": "markdown",
   "metadata": {},
   "source": [
    "Per the usual, dictionaries have really cool methods.  They also sometimes work like sequences."
   ]
  },
  {
   "cell_type": "code",
   "execution_count": 18,
   "metadata": {},
   "outputs": [
    {
     "name": "stdout",
     "output_type": "stream",
     "text": [
      "dict_keys(['Dan', 'Aaron', 'Mike'])\n",
      "dict_values(['Super person', 'Better over time.', 'Less vulgar than Aaron but more beardy.'])\n",
      "False\n"
     ]
    }
   ],
   "source": [
    "print(d1.keys())          # Print all keys in dictionary \"d1\".\n",
    "print(d1.values())        # Print all values in \"d1\".\n",
    "print('Bryan' in d1)      # Does \"d1\" have the key \"Bryan\"?"
   ]
  },
  {
   "cell_type": "markdown",
   "metadata": {},
   "source": [
    "A dictionary value can be any object.  Because everything is an object in Python, you can put functions, lists, objects, modules, ANYTHING into a dictionary."
   ]
  },
  {
   "cell_type": "code",
   "execution_count": 19,
   "metadata": {},
   "outputs": [
    {
     "name": "stdout",
     "output_type": "stream",
     "text": [
      "5\n"
     ]
    }
   ],
   "source": [
    "d2={'a':a, 'l2':l2, 'len':len}  # Store two lists and a function in a dictionary.\n",
    "print(d2['len'](d2['l2']))       # Use the function inside the dictionary to act on a list."
   ]
  },
  {
   "cell_type": "markdown",
   "metadata": {},
   "source": [
    "What we did here was execute the function __len__, stored in dictionary _d2_ under key _'len'_, by handing it list _l2_ stored in _d2_ under key _'l2'_.  Note how we use the syntax: we used parentheses to treat the syntax _d2['len']_ as if we had called __len__ explicitly.  This natural way to store and access objects in complicated structures is one of Python's strengths.\n"
   ]
  }
 ],
 "metadata": {
  "kernelspec": {
   "display_name": "Python 3",
   "language": "python",
   "name": "python3"
  },
  "language_info": {
   "codemirror_mode": {
    "name": "ipython",
    "version": 3
   },
   "file_extension": ".py",
   "mimetype": "text/x-python",
   "name": "python",
   "nbconvert_exporter": "python",
   "pygments_lexer": "ipython3",
   "version": "3.7.3"
  }
 },
 "nbformat": 4,
 "nbformat_minor": 1
}
